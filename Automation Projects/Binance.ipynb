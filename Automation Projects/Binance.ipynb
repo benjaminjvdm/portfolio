{
 "cells": [
  {
   "cell_type": "code",
   "execution_count": 1,
   "metadata": {},
   "outputs": [],
   "source": [
    "import pandas as pd\n",
    "import config\n",
    "import plotly.graph_objs as go\n",
    "from plotly.subplots import make_subplots\n",
    "import plotly.express as px\n",
    "from binance.client import Client\n",
    "\n",
    "# Initialize the Binance client with your API key and secret\n",
    "client = Client(api_key= config.BINANCEAPI, api_secret=config.BINANACESEC)\n",
    "\n",
    "# Retrieve the historical klines data for BTC/USDT\n",
    "klines = client.get_historical_klines(\"BTCUSDT\", Client.KLINE_INTERVAL_1MINUTE, \"1 week ago UTC+2\")\n",
    "data = pd.DataFrame(klines, columns=['timestamp', 'open', 'high', 'low', 'close', 'volume', 'close_time', 'quote_asset_volume', 'number_of_trades', 'taker_buy_base_asset_volume', 'taker_buy_quote_asset_volume', 'ignore'])\n",
    "\n",
    "# Convert timestamp to datetime and set it as index\n",
    "data['timestamp'] = pd.to_datetime(data['timestamp'], unit='ms')\n",
    "data.set_index('timestamp', inplace=True)\n",
    "\n",
    "# Convert close column to numeric data type\n",
    "data['close'] = pd.to_numeric(data['close'])\n",
    "\n",
    "# Drop rows containing missing values\n",
    "data.dropna(inplace=True)\n",
    "\n",
    "# Calculate momentum\n",
    "data['momentum'] = data['close'].pct_change()\n",
    "\n",
    "# Define profit-taking and stop-loss percentages\n",
    "take_profit = 0.02\n",
    "stop_loss = -0.01\n",
    "\n",
    "# Loop through buy and sell signals to calculate trades and outcomes\n",
    "trades = []\n",
    "for i in range(1, len(data)):\n",
    "    if data['momentum'][i-1] < 0 and data['momentum'][i] > 0:\n",
    "        # Buy signal\n",
    "        entry_price = data['close'][i]\n",
    "    elif data['momentum'][i-1] > 0 and data['momentum'][i] < 0:\n",
    "        # Sell signal\n",
    "        exit_price = data['close'][i]\n",
    "        pnl = (exit_price - entry_price) / entry_price\n",
    "        if pnl >= take_profit:\n",
    "            outcome = 'Win'\n",
    "        elif pnl <= stop_loss:\n",
    "            outcome = 'Loss'\n",
    "        else:\n",
    "            outcome = 'Neutral'\n",
    "        trades.append({'entry_time': data.index[i-1], 'exit_time': data.index[i], 'entry_price': entry_price, 'exit_price': exit_price, 'pnl': pnl, 'outcome': outcome})\n",
    "\n",
    "# Calculate win rate and PNL\n",
    "total_trades = len(trades)\n",
    "winning_trades = len([t for t in trades if t['outcome'] == 'Win'])\n",
    "losing_trades = len([t for t in trades if t['outcome'] == 'Loss'])\n",
    "neutral_trades = len([t for t in trades if t['outcome'] == 'Neutral'])\n",
    "win_rate = winning_trades / total_trades\n",
    "total_pnl = sum([t['pnl'] for t in trades])\n",
    "average_pnl = total_pnl / total_trades\n",
    "\n",
    "# Create subplots to show momentum and buying/selling markers\n",
    "figure = make_subplots(rows=2, cols=1)\n",
    "figure.add_trace(go.Scatter(x=data.index, y=data['close'], name='Close Price'))\n",
    "figure.add_trace(go.Scatter(x=data.index, y=data['momentum'], name='Momentum', yaxis='y2'))\n",
    "\n",
    "# Add buy and sell signals\n",
    "figure.add_trace(go.Scatter(x=data.loc[data['momentum'] > 0].index, y=data.loc[data['momentum'] > 0]['close'], mode='markers', name='Buy', marker=dict(color='green', symbol='triangle-up')))\n",
    "figure.add_trace(go.Scatter(x=data.loc[data['momentum'] < 0].index, y=data.loc[data['momentum'] < 0]['close'], mode='markers', name='Sell', marker=dict(color='red', symbol='triangle-down')))\n",
    "\n",
    "# Add trades\n",
    "if trades:\n",
    "    for i, trade in enumerate(trades):\n",
    "        figure.add_annotation(x=trade['entry_time'], y=trade['entry_price'], text=f'Trade {i+1}', showarrow=True, arrowhead=1, arrowcolor='blue')\n",
    "        figure.add_annotation(x=trade['exit_time'], y=trade['exit_price'], text=f'{trade[\"outcome\"]}: {trade[\"pnl\"]:.2%}', showarrow=True, arrowhead=1, arrowcolor='blue')\n",
    "\n",
    "# Set layout\n",
    "figure.update_layout(title='Algorithmic Trading using Momentum Strategy', xaxis_title='Date', yaxis_title='Price')\n",
    "figure.update_yaxes(title=\"Momentum\", secondary_y=True)\n",
    "\n",
    "# Add win rate and PNL to layout\n",
    "figure.update_layout(\n",
    "    annotations=[\n",
    "        dict(\n",
    "            text=f'Total PNL: {total_pnl:.2%}',\n",
    "            xref='paper', yref='paper',\n",
    "            x=0, y=1, showarrow=False,\n",
    "            align='right',\n",
    "            bgcolor='white',\n",
    "            font=dict(size=16)\n",
    "        )\n",
    "    ]\n",
    ")\n",
    "\n",
    "figure.show()"
   ]
  },
  {
   "cell_type": "code",
   "execution_count": 26,
   "metadata": {},
   "outputs": [
    {
     "data": {
      "text/plain": [
       "(323, 0, 0)"
      ]
     },
     "execution_count": 26,
     "metadata": {},
     "output_type": "execute_result"
    }
   ],
   "source": [
    "total_trades, winning_trades, losing_trades"
   ]
  }
 ],
 "metadata": {
  "kernelspec": {
   "display_name": "base",
   "language": "python",
   "name": "python3"
  },
  "language_info": {
   "codemirror_mode": {
    "name": "ipython",
    "version": 3
   },
   "file_extension": ".py",
   "mimetype": "text/x-python",
   "name": "python",
   "nbconvert_exporter": "python",
   "pygments_lexer": "ipython3",
   "version": "3.10.11"
  },
  "orig_nbformat": 4
 },
 "nbformat": 4,
 "nbformat_minor": 2
}
