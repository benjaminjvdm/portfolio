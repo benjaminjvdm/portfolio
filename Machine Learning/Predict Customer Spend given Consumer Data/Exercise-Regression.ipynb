{
 "cells": [
  {
   "cell_type": "markdown",
   "metadata": {
    "collapsed": true
   },
   "source": [
    "# This notebook is for course Five : Regression (Supervised Learning)"
   ]
  },
  {
   "cell_type": "code",
   "execution_count": 4,
   "metadata": {},
   "outputs": [],
   "source": [
    "import pandas as pd"
   ]
  },
  {
   "cell_type": "markdown",
   "metadata": {},
   "source": [
    "### Importing Data Files"
   ]
  },
  {
   "cell_type": "code",
   "execution_count": 5,
   "metadata": {},
   "outputs": [
    {
     "data": {
      "text/html": [
       "<div>\n",
       "<style scoped>\n",
       "    .dataframe tbody tr th:only-of-type {\n",
       "        vertical-align: middle;\n",
       "    }\n",
       "\n",
       "    .dataframe tbody tr th {\n",
       "        vertical-align: top;\n",
       "    }\n",
       "\n",
       "    .dataframe thead th {\n",
       "        text-align: right;\n",
       "    }\n",
       "</style>\n",
       "<table border=\"1\" class=\"dataframe\">\n",
       "  <thead>\n",
       "    <tr style=\"text-align: right;\">\n",
       "      <th></th>\n",
       "      <th>PRODUCT CODE</th>\n",
       "      <th>PRODUCT CATEGORY</th>\n",
       "      <th>UNIT LIST PRICE</th>\n",
       "    </tr>\n",
       "  </thead>\n",
       "  <tbody>\n",
       "    <tr>\n",
       "      <th>0</th>\n",
       "      <td>30001</td>\n",
       "      <td>HEALTH &amp; BEAUTY</td>\n",
       "      <td>$7.45</td>\n",
       "    </tr>\n",
       "    <tr>\n",
       "      <th>1</th>\n",
       "      <td>30002</td>\n",
       "      <td>HEALTH &amp; BEAUTY</td>\n",
       "      <td>$5.35</td>\n",
       "    </tr>\n",
       "    <tr>\n",
       "      <th>2</th>\n",
       "      <td>30003</td>\n",
       "      <td>HEALTH &amp; BEAUTY</td>\n",
       "      <td>$5.49</td>\n",
       "    </tr>\n",
       "    <tr>\n",
       "      <th>3</th>\n",
       "      <td>30004</td>\n",
       "      <td>HEALTH &amp; BEAUTY</td>\n",
       "      <td>$6.46</td>\n",
       "    </tr>\n",
       "    <tr>\n",
       "      <th>4</th>\n",
       "      <td>30005</td>\n",
       "      <td>HEALTH &amp; BEAUTY</td>\n",
       "      <td>$7.33</td>\n",
       "    </tr>\n",
       "  </tbody>\n",
       "</table>\n",
       "</div>"
      ],
      "text/plain": [
       "   PRODUCT CODE PRODUCT CATEGORY UNIT LIST PRICE\n",
       "0         30001  HEALTH & BEAUTY          $7.45 \n",
       "1         30002  HEALTH & BEAUTY          $5.35 \n",
       "2         30003  HEALTH & BEAUTY          $5.49 \n",
       "3         30004  HEALTH & BEAUTY          $6.46 \n",
       "4         30005  HEALTH & BEAUTY          $7.33 "
      ]
     },
     "execution_count": 5,
     "metadata": {},
     "output_type": "execute_result"
    }
   ],
   "source": [
    "#Import Product DataSet here\n",
    "product_data = pd.read_csv('Product Data Set - Student 2 of 3.csv',sep='|')\n",
    "product_data.head()"
   ]
  },
  {
   "cell_type": "code",
   "execution_count": 6,
   "metadata": {
    "scrolled": true
   },
   "outputs": [
    {
     "data": {
      "text/html": [
       "<div>\n",
       "<style scoped>\n",
       "    .dataframe tbody tr th:only-of-type {\n",
       "        vertical-align: middle;\n",
       "    }\n",
       "\n",
       "    .dataframe tbody tr th {\n",
       "        vertical-align: top;\n",
       "    }\n",
       "\n",
       "    .dataframe thead th {\n",
       "        text-align: right;\n",
       "    }\n",
       "</style>\n",
       "<table border=\"1\" class=\"dataframe\">\n",
       "  <thead>\n",
       "    <tr style=\"text-align: right;\">\n",
       "      <th></th>\n",
       "      <th>CUSTOMER NUM</th>\n",
       "      <th>PRODUCT NUM</th>\n",
       "      <th>QUANTITY PURCHASED</th>\n",
       "      <th>DISCOUNT TAKEN</th>\n",
       "      <th>TRANSACTION DATE</th>\n",
       "      <th>STOCKOUT</th>\n",
       "    </tr>\n",
       "  </thead>\n",
       "  <tbody>\n",
       "    <tr>\n",
       "      <th>0</th>\n",
       "      <td>10114</td>\n",
       "      <td>30011</td>\n",
       "      <td>4</td>\n",
       "      <td>0.0</td>\n",
       "      <td>1/2/2015</td>\n",
       "      <td>0</td>\n",
       "    </tr>\n",
       "    <tr>\n",
       "      <th>1</th>\n",
       "      <td>10217</td>\n",
       "      <td>30016</td>\n",
       "      <td>3</td>\n",
       "      <td>0.0</td>\n",
       "      <td>1/2/2015</td>\n",
       "      <td>0</td>\n",
       "    </tr>\n",
       "    <tr>\n",
       "      <th>2</th>\n",
       "      <td>10224</td>\n",
       "      <td>30013</td>\n",
       "      <td>4</td>\n",
       "      <td>0.0</td>\n",
       "      <td>1/2/2015</td>\n",
       "      <td>0</td>\n",
       "    </tr>\n",
       "    <tr>\n",
       "      <th>3</th>\n",
       "      <td>10103</td>\n",
       "      <td>30012</td>\n",
       "      <td>3</td>\n",
       "      <td>0.2</td>\n",
       "      <td>1/2/2015</td>\n",
       "      <td>0</td>\n",
       "    </tr>\n",
       "    <tr>\n",
       "      <th>4</th>\n",
       "      <td>10037</td>\n",
       "      <td>30010</td>\n",
       "      <td>8</td>\n",
       "      <td>0.0</td>\n",
       "      <td>1/2/2015</td>\n",
       "      <td>0</td>\n",
       "    </tr>\n",
       "  </tbody>\n",
       "</table>\n",
       "</div>"
      ],
      "text/plain": [
       "   CUSTOMER NUM  PRODUCT NUM  QUANTITY PURCHASED  DISCOUNT TAKEN  \\\n",
       "0         10114        30011                   4             0.0   \n",
       "1         10217        30016                   3             0.0   \n",
       "2         10224        30013                   4             0.0   \n",
       "3         10103        30012                   3             0.2   \n",
       "4         10037        30010                   8             0.0   \n",
       "\n",
       "  TRANSACTION DATE  STOCKOUT  \n",
       "0         1/2/2015         0  \n",
       "1         1/2/2015         0  \n",
       "2         1/2/2015         0  \n",
       "3         1/2/2015         0  \n",
       "4         1/2/2015         0  "
      ]
     },
     "execution_count": 6,
     "metadata": {},
     "output_type": "execute_result"
    }
   ],
   "source": [
    "#Import Transaction DataSet Here\n",
    "transactions_data = pd.read_csv('Transaction Data Set - Student 3 of 3.csv',sep='|')\n",
    "transactions_data.head()"
   ]
  },
  {
   "cell_type": "code",
   "execution_count": 7,
   "metadata": {},
   "outputs": [
    {
     "data": {
      "text/html": [
       "<div>\n",
       "<style scoped>\n",
       "    .dataframe tbody tr th:only-of-type {\n",
       "        vertical-align: middle;\n",
       "    }\n",
       "\n",
       "    .dataframe tbody tr th {\n",
       "        vertical-align: top;\n",
       "    }\n",
       "\n",
       "    .dataframe thead th {\n",
       "        text-align: right;\n",
       "    }\n",
       "</style>\n",
       "<table border=\"1\" class=\"dataframe\">\n",
       "  <thead>\n",
       "    <tr style=\"text-align: right;\">\n",
       "      <th></th>\n",
       "      <th>CUSTOMERID</th>\n",
       "      <th>GENDER</th>\n",
       "      <th>AGE</th>\n",
       "      <th>INCOME</th>\n",
       "      <th>EXPERIENCE SCORE</th>\n",
       "      <th>LOYALTY GROUP</th>\n",
       "      <th>ENROLLMENT DATE</th>\n",
       "      <th>HOUSEHOLD SIZE</th>\n",
       "      <th>MARITAL STATUS</th>\n",
       "    </tr>\n",
       "  </thead>\n",
       "  <tbody>\n",
       "    <tr>\n",
       "      <th>0</th>\n",
       "      <td>10001</td>\n",
       "      <td>0</td>\n",
       "      <td>64</td>\n",
       "      <td>$133,498</td>\n",
       "      <td>5</td>\n",
       "      <td>enrolled</td>\n",
       "      <td>06-03-2013</td>\n",
       "      <td>4</td>\n",
       "      <td>Single</td>\n",
       "    </tr>\n",
       "    <tr>\n",
       "      <th>1</th>\n",
       "      <td>10002</td>\n",
       "      <td>0</td>\n",
       "      <td>42</td>\n",
       "      <td>$94,475</td>\n",
       "      <td>9</td>\n",
       "      <td>notenrolled</td>\n",
       "      <td>NaN</td>\n",
       "      <td>6</td>\n",
       "      <td>Married</td>\n",
       "    </tr>\n",
       "    <tr>\n",
       "      <th>2</th>\n",
       "      <td>10003</td>\n",
       "      <td>0</td>\n",
       "      <td>40</td>\n",
       "      <td>$88,610</td>\n",
       "      <td>9</td>\n",
       "      <td>enrolled</td>\n",
       "      <td>02-09-2010</td>\n",
       "      <td>5</td>\n",
       "      <td>Married</td>\n",
       "    </tr>\n",
       "    <tr>\n",
       "      <th>3</th>\n",
       "      <td>10004</td>\n",
       "      <td>0</td>\n",
       "      <td>38</td>\n",
       "      <td>$84,313</td>\n",
       "      <td>8</td>\n",
       "      <td>enrolled</td>\n",
       "      <td>06-04-2015</td>\n",
       "      <td>1</td>\n",
       "      <td>Single</td>\n",
       "    </tr>\n",
       "    <tr>\n",
       "      <th>4</th>\n",
       "      <td>10005</td>\n",
       "      <td>0</td>\n",
       "      <td>30</td>\n",
       "      <td>$51,498</td>\n",
       "      <td>3</td>\n",
       "      <td>notenrolled</td>\n",
       "      <td>NaN</td>\n",
       "      <td>1</td>\n",
       "      <td>Single</td>\n",
       "    </tr>\n",
       "  </tbody>\n",
       "</table>\n",
       "</div>"
      ],
      "text/plain": [
       "   CUSTOMERID  GENDER  AGE    INCOME  EXPERIENCE SCORE LOYALTY GROUP  \\\n",
       "0       10001       0   64  $133,498                 5      enrolled   \n",
       "1       10002       0   42   $94,475                 9   notenrolled   \n",
       "2       10003       0   40   $88,610                 9      enrolled   \n",
       "3       10004       0   38   $84,313                 8      enrolled   \n",
       "4       10005       0   30   $51,498                 3   notenrolled   \n",
       "\n",
       "  ENROLLMENT DATE  HOUSEHOLD SIZE MARITAL STATUS  \n",
       "0      06-03-2013               4         Single  \n",
       "1             NaN               6        Married  \n",
       "2      02-09-2010               5        Married  \n",
       "3      06-04-2015               1         Single  \n",
       "4             NaN               1         Single  "
      ]
     },
     "execution_count": 7,
     "metadata": {},
     "output_type": "execute_result"
    }
   ],
   "source": [
    "#Import Customer Dataset Here\n",
    "customer_data=pd.read_csv('Customer Data Set - Student 1 of 3.csv')\n",
    "customer_data.head()\n"
   ]
  },
  {
   "cell_type": "markdown",
   "metadata": {},
   "source": [
    "### Changing Data Types"
   ]
  },
  {
   "cell_type": "code",
   "execution_count": null,
   "metadata": {},
   "outputs": [],
   "source": [
    "customer_data['INCOME']=customer_data['INCOME'].map(lambda x : x.replace('$',''))"
   ]
  },
  {
   "cell_type": "code",
   "execution_count": null,
   "metadata": {},
   "outputs": [],
   "source": [
    "customer_data['INCOME']=customer_data['INCOME'].map(lambda x : int(x.replace(',','')))"
   ]
  },
  {
   "cell_type": "markdown",
   "metadata": {},
   "source": [
    "### Creating Customer View"
   ]
  },
  {
   "cell_type": "code",
   "execution_count": null,
   "metadata": {},
   "outputs": [],
   "source": [
    "trans_products=transactions_data.merge(product_data,how='inner', left_on='PRODUCT NUM', right_on='PRODUCT CODE')"
   ]
  },
  {
   "cell_type": "code",
   "execution_count": null,
   "metadata": {},
   "outputs": [],
   "source": [
    "trans_products['UNIT LIST PRICE']=trans_products['UNIT LIST PRICE'].map(lambda x : float(x.replace('$','')))"
   ]
  },
  {
   "cell_type": "code",
   "execution_count": null,
   "metadata": {},
   "outputs": [],
   "source": [
    "trans_products['Total_Price']=trans_products['QUANTITY PURCHASED'] * trans_products['UNIT LIST PRICE'] * (1- trans_products['DISCOUNT TAKEN'])"
   ]
  },
  {
   "cell_type": "code",
   "execution_count": null,
   "metadata": {},
   "outputs": [],
   "source": [
    "customer_prod_categ=trans_products.groupby(['CUSTOMER NUM','PRODUCT CATEGORY']).agg({'Total_Price':'sum'})"
   ]
  },
  {
   "cell_type": "code",
   "execution_count": null,
   "metadata": {},
   "outputs": [],
   "source": [
    "customer_prod_categ=customer_prod_categ.reset_index()"
   ]
  },
  {
   "cell_type": "code",
   "execution_count": null,
   "metadata": {},
   "outputs": [],
   "source": [
    "customer_pivot=customer_prod_categ.pivot(index='CUSTOMER NUM',columns='PRODUCT CATEGORY',values='Total_Price')"
   ]
  },
  {
   "cell_type": "code",
   "execution_count": null,
   "metadata": {},
   "outputs": [],
   "source": [
    "trans_total_spend=trans_products.groupby('CUSTOMER NUM').agg({'Total_Price':'sum'}).\\\n",
    "rename(columns={'Total_Price':'TOTAL SPENT'})"
   ]
  },
  {
   "cell_type": "code",
   "execution_count": null,
   "metadata": {},
   "outputs": [],
   "source": [
    "customer_KPIs=customer_pivot.merge(trans_total_spend,how='inner',left_index=True, right_index=True )"
   ]
  },
  {
   "cell_type": "code",
   "execution_count": null,
   "metadata": {},
   "outputs": [],
   "source": [
    "customer_KPIs=customer_KPIs.fillna(0)\n"
   ]
  },
  {
   "cell_type": "code",
   "execution_count": null,
   "metadata": {},
   "outputs": [],
   "source": [
    "customer_all_view=customer_data.merge(customer_KPIs,how='inner', left_on='CUSTOMERID', right_index=True)"
   ]
  },
  {
   "cell_type": "code",
   "execution_count": null,
   "metadata": {},
   "outputs": [],
   "source": [
    "customer_all_view.head()"
   ]
  },
  {
   "cell_type": "markdown",
   "metadata": {},
   "source": [
    "# Linear Regression "
   ]
  },
  {
   "cell_type": "code",
   "execution_count": null,
   "metadata": {},
   "outputs": [],
   "source": [
    "#Begin Writing your code here"
   ]
  },
  {
   "cell_type": "code",
   "execution_count": null,
   "metadata": {},
   "outputs": [],
   "source": []
  }
 ],
 "metadata": {
  "kernelspec": {
   "display_name": "Python 3.9.12 ('base')",
   "language": "python",
   "name": "python3"
  },
  "language_info": {
   "codemirror_mode": {
    "name": "ipython",
    "version": 3
   },
   "file_extension": ".py",
   "mimetype": "text/x-python",
   "name": "python",
   "nbconvert_exporter": "python",
   "pygments_lexer": "ipython3",
   "version": "3.9.12"
  },
  "vscode": {
   "interpreter": {
    "hash": "aa6088de502241aa5b089aa4d56ee8ff9515d5eca7fc59578868fc1fb1b8d65e"
   }
  }
 },
 "nbformat": 4,
 "nbformat_minor": 1
}
