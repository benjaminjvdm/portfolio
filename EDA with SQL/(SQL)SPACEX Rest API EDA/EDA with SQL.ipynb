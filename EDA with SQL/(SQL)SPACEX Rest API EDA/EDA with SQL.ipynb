{
 "cells": [
  {
   "cell_type": "markdown",
   "metadata": {},
   "source": [
    "test"
   ]
  }
 ],
 "metadata": {
  "kernelspec": {
   "display_name": "Python 3.9.12 ('base')",
   "language": "python",
   "name": "python3"
  },
  "language_info": {
   "name": "python",
   "version": "3.9.12"
  },
  "orig_nbformat": 4,
  "vscode": {
   "interpreter": {
    "hash": "aa6088de502241aa5b089aa4d56ee8ff9515d5eca7fc59578868fc1fb1b8d65e"
   }
  }
 },
 "nbformat": 4,
 "nbformat_minor": 2
}
